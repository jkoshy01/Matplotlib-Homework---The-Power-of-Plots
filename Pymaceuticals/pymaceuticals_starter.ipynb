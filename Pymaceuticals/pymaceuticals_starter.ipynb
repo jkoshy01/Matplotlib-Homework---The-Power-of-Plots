{
 "cells": [
  {
   "cell_type": "markdown",
   "metadata": {},
   "source": [
    "## Observations and Insights "
    Based on the data of the assignment it shows that the tumor response to the treatment that the tumor decreases when using the capomulin drug. While using the other drug it shows that the tumor will increase. Based on the metastatic response to the treatment it shows that the level of Capomulin is lower compared to the other drug. According to the study it shows that Capomulin helps reduce the tumor size and it helps to improve the survival odds.

 In the second observed trend it shows that the tumor volume change that the level is lower for the Capomulin drug compared to the other drugs. And shows that other drugs are higher. The Survival Rate- it shows that the count of mouse that uses the capomulin drug is higher than any other drugs that is being used. According to the data They are more survival rate when using the Capomulin drug. Also, while using the Infubinol it shows it suppress metastasis, the survival rate of the test group that are using this drug is the only group that have a lower rate than placebo. 

Thirdly, the Ketapril drug appears to be borderline dangerous – In the data it shows survival outcomes roughly equivalent to placebo, and this is the only drug which allowed for greater tumor volume and rate of metastasis vs. placebo.In conclusion, the capomulin drug is the one the reduces the tumor based on the data. If the mouse uses the other types of drug the tumor will increase. This is some of the findings I have found in this assignment based on the analysis.

   ]
  },
  {
   "cell_type": "markdown",
   "metadata": {},
   "source": []
  },
  {
   "cell_type": "code",
   "execution_count": 1,
   "metadata": {},
   "outputs": [],
   "source": [
    "# Dependencies and Setup\n",
    "import matplotlib.pyplot as plt\n",
    "import pandas as pd\n",
    "import scipy.stats as st\n",
    "import pandas as pd\n",
    "import scipy.stats as sts\n",
    "import numpy as np\n",
    "from scipy.stats import linregress\n",
    "from sklearn import datasets\n",
    "%matplotlib notebook\n",
    "%matplotlib inline\n",
    "from pandas.plotting import table\n",
    "\n",
    "\n",
    "# Study data files\n",
    "mouse_metadata = \"data/Mouse_metadata.csv\"\n",
    "study_results = \"data/Study_results.csv\"\n",
    "\n",
    "# Read the mouse data and the study results\n",
    "mouse_metadata = pd.read_csv(mouse_metadata)\n",
    "study_results = pd.read_csv(study_results)"
   ]
  },
  {
   "cell_type": "code",
   "execution_count": 2,
   "metadata": {},
   "outputs": [
    {
     "data": {
      "text/html": [
       "<div>\n",
       "<style scoped>\n",
       "    .dataframe tbody tr th:only-of-type {\n",
       "        vertical-align: middle;\n",
       "    }\n",
       "\n",
       "    .dataframe tbody tr th {\n",
       "        vertical-align: top;\n",
       "    }\n",
       "\n",
       "    .dataframe thead th {\n",
       "        text-align: right;\n",
       "    }\n",
       "</style>\n",
       "<table border=\"1\" class=\"dataframe\">\n",
       "  <thead>\n",
       "    <tr style=\"text-align: right;\">\n",
       "      <th></th>\n",
       "      <th>Mouse ID</th>\n",
       "      <th>Drug Regimen</th>\n",
       "      <th>Sex</th>\n",
       "      <th>Age_months</th>\n",
       "      <th>Weight (g)</th>\n",
       "      <th>Timepoint</th>\n",
       "      <th>Tumor Volume (mm3)</th>\n",
       "      <th>Metastatic Sites</th>\n",
       "    </tr>\n",
       "  </thead>\n",
       "  <tbody>\n",
       "    <tr>\n",
       "      <th>0</th>\n",
       "      <td>k403</td>\n",
       "      <td>Ramicane</td>\n",
       "      <td>Male</td>\n",
       "      <td>21</td>\n",
       "      <td>16</td>\n",
       "      <td>0</td>\n",
       "      <td>45.000000</td>\n",
       "      <td>0</td>\n",
       "    </tr>\n",
       "    <tr>\n",
       "      <th>1</th>\n",
       "      <td>k403</td>\n",
       "      <td>Ramicane</td>\n",
       "      <td>Male</td>\n",
       "      <td>21</td>\n",
       "      <td>16</td>\n",
       "      <td>5</td>\n",
       "      <td>38.825898</td>\n",
       "      <td>0</td>\n",
       "    </tr>\n",
       "    <tr>\n",
       "      <th>2</th>\n",
       "      <td>k403</td>\n",
       "      <td>Ramicane</td>\n",
       "      <td>Male</td>\n",
       "      <td>21</td>\n",
       "      <td>16</td>\n",
       "      <td>10</td>\n",
       "      <td>35.014271</td>\n",
       "      <td>1</td>\n",
       "    </tr>\n",
       "    <tr>\n",
       "      <th>3</th>\n",
       "      <td>k403</td>\n",
       "      <td>Ramicane</td>\n",
       "      <td>Male</td>\n",
       "      <td>21</td>\n",
       "      <td>16</td>\n",
       "      <td>15</td>\n",
       "      <td>34.223992</td>\n",
       "      <td>1</td>\n",
       "    </tr>\n",
       "    <tr>\n",
       "      <th>4</th>\n",
       "      <td>k403</td>\n",
       "      <td>Ramicane</td>\n",
       "      <td>Male</td>\n",
       "      <td>21</td>\n",
       "      <td>16</td>\n",
       "      <td>20</td>\n",
       "      <td>32.997729</td>\n",
       "      <td>1</td>\n",
       "    </tr>\n",
       "  </tbody>\n",
       "</table>\n",
       "</div>"
      ],
      "text/plain": [
       "  Mouse ID Drug Regimen   Sex  Age_months  Weight (g)  Timepoint  \\\n",
       "0     k403     Ramicane  Male          21          16          0   \n",
       "1     k403     Ramicane  Male          21          16          5   \n",
       "2     k403     Ramicane  Male          21          16         10   \n",
       "3     k403     Ramicane  Male          21          16         15   \n",
       "4     k403     Ramicane  Male          21          16         20   \n",
       "\n",
       "   Tumor Volume (mm3)  Metastatic Sites  \n",
       "0           45.000000                 0  \n",
       "1           38.825898                 0  \n",
       "2           35.014271                 1  \n",
       "3           34.223992                 1  \n",
       "4           32.997729                 1  "
      ]
     },
     "execution_count": 2,
     "metadata": {},
     "output_type": "execute_result"
    }
   ],
   "source": [
    "# Combine the data into a single dataset using an inner joint\n",
    "merge_table = pd.merge(mouse_metadata, study_results, on=\"Mouse ID\", how=\"left\")\n",
    "merge_table.head()\n"
   ]
  },
  {
   "cell_type": "code",
   "execution_count": 3,
   "metadata": {},
   "outputs": [
    {
     "data": {
      "text/html": [
       "<div>\n",
       "<style scoped>\n",
       "    .dataframe tbody tr th:only-of-type {\n",
       "        vertical-align: middle;\n",
       "    }\n",
       "\n",
       "    .dataframe tbody tr th {\n",
       "        vertical-align: top;\n",
       "    }\n",
       "\n",
       "    .dataframe thead th {\n",
       "        text-align: right;\n",
       "    }\n",
       "</style>\n",
       "<table border=\"1\" class=\"dataframe\">\n",
       "  <thead>\n",
       "    <tr style=\"text-align: right;\">\n",
       "      <th></th>\n",
       "      <th>Mean</th>\n",
       "      <th>Median</th>\n",
       "      <th>Variance</th>\n",
       "      <th>Standard Deviation</th>\n",
       "      <th>SEM</th>\n",
       "    </tr>\n",
       "    <tr>\n",
       "      <th>Drug Regimen</th>\n",
       "      <th></th>\n",
       "      <th></th>\n",
       "      <th></th>\n",
       "      <th></th>\n",
       "      <th></th>\n",
       "    </tr>\n",
       "  </thead>\n",
       "  <tbody>\n",
       "    <tr>\n",
       "      <th>Capomulin</th>\n",
       "      <td>40.675741</td>\n",
       "      <td>41.557809</td>\n",
       "      <td>24.947764</td>\n",
       "      <td>4.994774</td>\n",
       "      <td>0.329346</td>\n",
       "    </tr>\n",
       "    <tr>\n",
       "      <th>Ceftamin</th>\n",
       "      <td>52.591172</td>\n",
       "      <td>51.776157</td>\n",
       "      <td>39.290177</td>\n",
       "      <td>6.268188</td>\n",
       "      <td>0.469821</td>\n",
       "    </tr>\n",
       "    <tr>\n",
       "      <th>Infubinol</th>\n",
       "      <td>52.884795</td>\n",
       "      <td>51.820584</td>\n",
       "      <td>43.128684</td>\n",
       "      <td>6.567243</td>\n",
       "      <td>0.492236</td>\n",
       "    </tr>\n",
       "    <tr>\n",
       "      <th>Ketapril</th>\n",
       "      <td>55.235638</td>\n",
       "      <td>53.698743</td>\n",
       "      <td>68.553577</td>\n",
       "      <td>8.279709</td>\n",
       "      <td>0.603860</td>\n",
       "    </tr>\n",
       "    <tr>\n",
       "      <th>Naftisol</th>\n",
       "      <td>54.331565</td>\n",
       "      <td>52.509285</td>\n",
       "      <td>66.173479</td>\n",
       "      <td>8.134708</td>\n",
       "      <td>0.596466</td>\n",
       "    </tr>\n",
       "    <tr>\n",
       "      <th>Placebo</th>\n",
       "      <td>54.033581</td>\n",
       "      <td>52.288934</td>\n",
       "      <td>61.168083</td>\n",
       "      <td>7.821003</td>\n",
       "      <td>0.581331</td>\n",
       "    </tr>\n",
       "    <tr>\n",
       "      <th>Propriva</th>\n",
       "      <td>52.322552</td>\n",
       "      <td>50.854632</td>\n",
       "      <td>42.351070</td>\n",
       "      <td>6.507770</td>\n",
       "      <td>0.512884</td>\n",
       "    </tr>\n",
       "    <tr>\n",
       "      <th>Ramicane</th>\n",
       "      <td>40.216745</td>\n",
       "      <td>40.673236</td>\n",
       "      <td>23.486704</td>\n",
       "      <td>4.846308</td>\n",
       "      <td>0.320955</td>\n",
       "    </tr>\n",
       "    <tr>\n",
       "      <th>Stelasyn</th>\n",
       "      <td>54.233149</td>\n",
       "      <td>52.431737</td>\n",
       "      <td>59.450562</td>\n",
       "      <td>7.710419</td>\n",
       "      <td>0.573111</td>\n",
       "    </tr>\n",
       "    <tr>\n",
       "      <th>Zoniferol</th>\n",
       "      <td>53.236507</td>\n",
       "      <td>51.818479</td>\n",
       "      <td>48.533355</td>\n",
       "      <td>6.966589</td>\n",
       "      <td>0.516398</td>\n",
       "    </tr>\n",
       "  </tbody>\n",
       "</table>\n",
       "</div>"
      ],
      "text/plain": [
       "                   Mean     Median   Variance  Standard Deviation       SEM\n",
       "Drug Regimen                                                               \n",
       "Capomulin     40.675741  41.557809  24.947764            4.994774  0.329346\n",
       "Ceftamin      52.591172  51.776157  39.290177            6.268188  0.469821\n",
       "Infubinol     52.884795  51.820584  43.128684            6.567243  0.492236\n",
       "Ketapril      55.235638  53.698743  68.553577            8.279709  0.603860\n",
       "Naftisol      54.331565  52.509285  66.173479            8.134708  0.596466\n",
       "Placebo       54.033581  52.288934  61.168083            7.821003  0.581331\n",
       "Propriva      52.322552  50.854632  42.351070            6.507770  0.512884\n",
       "Ramicane      40.216745  40.673236  23.486704            4.846308  0.320955\n",
       "Stelasyn      54.233149  52.431737  59.450562            7.710419  0.573111\n",
       "Zoniferol     53.236507  51.818479  48.533355            6.966589  0.516398"
      ]
     },
     "execution_count": 3,
     "metadata": {},
     "output_type": "execute_result"
    }
   ],
   "source": [
    "# Generate a summary statistics table of mean, median, variance, standard deviation, and SEM of the tumor volume for each regimen\n",
    "mean = merge_table.groupby('Drug Regimen')['Tumor Volume (mm3)'].mean()\n",
    "median = merge_table.groupby('Drug Regimen')['Tumor Volume (mm3)'].median()\n",
    "variance = merge_table.groupby('Drug Regimen')['Tumor Volume (mm3)'].var()\n",
    "stdv = merge_table.groupby('Drug Regimen')['Tumor Volume (mm3)'].std()\n",
    "sem = merge_table.groupby('Drug Regimen')['Tumor Volume (mm3)'].sem()\n",
    "summary_df = pd.DataFrame({\"Mean\": mean, \"Median\": median, \"Variance\": variance, \"Standard Deviation\": stdv, \n",
    "                          \"SEM\": sem})\n",
    "summary_df\n",
    "\n"
   ]
  },
  {
   "cell_type": "code",
   "execution_count": 5,
   "metadata": {},
   "outputs": [],
   "source": [
    "# Generate a bar plot showing number of data points for each treatment regimen using pandas\n",
    "grouped_df = pd.DataFrame(merge_table.groupby([\"Drug Regimen\"]).count()).reset_index()\n",
    "# Filter the DataFrame down only to those columns to chart\n",
    "regimen_datapoints = grouped_df[[\"Drug Regimen\",\"Mouse ID\"]]\n",
    "regimen_datapoints = regimen_datapoints.rename(columns={\"Mouse ID\": \"Count\"})\n",
    "# Set the index to be \"Drug Regimen\" so they will be used as labels\n",
    "regimen_datapoints = regimen_datapoints.set_index(\"Drug Regimen\")\n"
   ]
  },
  {
   "cell_type": "code",
   "execution_count": 6,
   "metadata": {},
   "outputs": [
    {
     "data": {
      "image/png": "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\n",
      "text/plain": [
       "<Figure size 720x216 with 1 Axes>"
      ]
     },
     "metadata": {
      "needs_background": "light"
     },
     "output_type": "display_data"
    },
    {
     "data": {
      "text/plain": [
       "<Figure size 432x288 with 0 Axes>"
      ]
     },
     "metadata": {},
     "output_type": "display_data"
    }
   ],
   "source": [
    "# Use DataFrame.plot() in order to create a bar chart of the data\n",
    "\n",
    "regimen_datapoints.plot(kind=\"bar\", figsize=(10,3))\n",
    "\n",
    "# Set a title for the chart\n",
    "plt.title(\"Count per Drug Regimen\")\n",
    "plt.show()\n",
    "plt.tight_layout()"
   ]
  },
  {
   "cell_type": "code",
   "execution_count": 7,
   "metadata": {},
   "outputs": [
    {
     "data": {
      "text/plain": [
       "['Capomulin',\n",
       " 'Ceftamin',\n",
       " 'Infubinol',\n",
       " 'Ketapril',\n",
       " 'Naftisol',\n",
       " 'Placebo',\n",
       " 'Propriva',\n",
       " 'Ramicane',\n",
       " 'Stelasyn',\n",
       " 'Zoniferol']"
      ]
     },
     "execution_count": 7,
     "metadata": {},
     "output_type": "execute_result"
    }
   ],
   "source": [
    "import matplotlib.pyplot as plt\n",
    "\n",
    "# Generate a bar plot showing number of data points for each treatment regimen using pyplot\n",
    "# select column to convert to list here\n",
    "drug_regimens = summary_df.index.tolist()\n",
    "drug_regimens\n"
   ]
  },
  {
   "cell_type": "markdown",
   "metadata": {},
   "source": [
    "## Summary Statistics"
   ]
  },
  {
   "cell_type": "code",
   "execution_count": 8,
   "metadata": {},
   "outputs": [
    {
     "data": {
      "text/plain": [
       "[230, 178, 178, 188, 186, 181, 161, 228, 181, 182]"
      ]
     },
     "execution_count": 8,
     "metadata": {},
     "output_type": "execute_result"
    }
   ],
   "source": [
    "# Convert regimen count into a list\n",
    "regimen_count = (merge_table.groupby([\"Drug Regimen\"])[\"Age_months\"].count()).tolist()\n",
    "regimen_count"
   ]
  },
  {
   "cell_type": "code",
   "execution_count": null,
   "metadata": {},
   "outputs": [],
   "source": [
    "x_axis = np.arange(len(regimen_count))\n"
   ]
  },
  {
   "cell_type": "markdown",
   "metadata": {},
   "source": [
    "## Bar and Pie Charts"
   ]
  },
  {
   "cell_type": "code",
   "execution_count": 9,
   "metadata": {},
   "outputs": [
    {
     "data": {
      "text/plain": [
       "<BarContainer object of 10 artists>"
      ]
     },
     "execution_count": 9,
     "metadata": {},
     "output_type": "execute_result"
    },
    {
     "data": {
      "image/png": "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\n",
      "text/plain": [
       "<Figure size 720x288 with 1 Axes>"
      ]
     },
     "metadata": {
      "needs_background": "light"
     },
     "output_type": "display_data"
    }
   ],
   "source": [
    "# Define x-axis\n",
    "x_axis = drug_regimens\n",
    "# Create a bar chart based upon the above data\n",
    "plt.figure(figsize=(10,4))\n",
    "plt.bar(x_axis, regimen_count, color='b', alpha=0.5, align=\"center\")\n",
    "\n"
   ]
  },
  {
   "cell_type": "code",
   "execution_count": 10,
   "metadata": {},
   "outputs": [
    {
     "data": {
      "text/plain": [
       "Text(0, 0.5, 'Count')"
      ]
     },
     "execution_count": 10,
     "metadata": {},
     "output_type": "execute_result"
    },
    {
     "data": {
      "image/png": "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\n",
      "text/plain": [
       "<Figure size 432x288 with 1 Axes>"
      ]
     },
     "metadata": {
      "needs_background": "light"
     },
     "output_type": "display_data"
    }
   ],
   "source": [
    "# Give the chart a title, x label, and y label\n",
    "plt.title(\"Count for each Treatment\")\n",
    "plt.xlabel(\"Drug Regimen\")\n",
    "plt.ylabel(\"Count\")\n",
    "\n"
   ]
  },
  {
   "cell_type": "code",
   "execution_count": 11,
   "metadata": {},
   "outputs": [
    {
     "data": {
      "image/png": "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\n",
      "text/plain": [
       "<Figure size 432x288 with 1 Axes>"
      ]
     },
     "metadata": {
      "needs_background": "light"
     },
     "output_type": "display_data"
    }
   ],
   "source": [
    "# Set the limits of the x axis\n",
    "plt.xlim(-0.75, 10)\n",
    "# Set the limits of the y axis\n",
    "plt.ylim(0, 300)\n",
    "\n",
    "plt.show()\n",
    "\n"
   ]
  },
  {
   "cell_type": "code",
   "execution_count": 12,
   "metadata": {},
   "outputs": [
    {
     "data": {
      "text/html": [
       "<div>\n",
       "<style scoped>\n",
       "    .dataframe tbody tr th:only-of-type {\n",
       "        vertical-align: middle;\n",
       "    }\n",
       "\n",
       "    .dataframe tbody tr th {\n",
       "        vertical-align: top;\n",
       "    }\n",
       "\n",
       "    .dataframe thead th {\n",
       "        text-align: right;\n",
       "    }\n",
       "</style>\n",
       "<table border=\"1\" class=\"dataframe\">\n",
       "  <thead>\n",
       "    <tr style=\"text-align: right;\">\n",
       "      <th></th>\n",
       "      <th>Sex</th>\n",
       "      <th>Mouse ID</th>\n",
       "      <th>Drug Regimen</th>\n",
       "      <th>Age_months</th>\n",
       "      <th>Weight (g)</th>\n",
       "      <th>Timepoint</th>\n",
       "      <th>Tumor Volume (mm3)</th>\n",
       "      <th>Metastatic Sites</th>\n",
       "    </tr>\n",
       "  </thead>\n",
       "  <tbody>\n",
       "    <tr>\n",
       "      <th>0</th>\n",
       "      <td>Female</td>\n",
       "      <td>935</td>\n",
       "      <td>935</td>\n",
       "      <td>935</td>\n",
       "      <td>935</td>\n",
       "      <td>935</td>\n",
       "      <td>935</td>\n",
       "      <td>935</td>\n",
       "    </tr>\n",
       "    <tr>\n",
       "      <th>1</th>\n",
       "      <td>Male</td>\n",
       "      <td>958</td>\n",
       "      <td>958</td>\n",
       "      <td>958</td>\n",
       "      <td>958</td>\n",
       "      <td>958</td>\n",
       "      <td>958</td>\n",
       "      <td>958</td>\n",
       "    </tr>\n",
       "  </tbody>\n",
       "</table>\n",
       "</div>"
      ],
      "text/plain": [
       "      Sex  Mouse ID  Drug Regimen  Age_months  Weight (g)  Timepoint  \\\n",
       "0  Female       935           935         935         935        935   \n",
       "1    Male       958           958         958         958        958   \n",
       "\n",
       "   Tumor Volume (mm3)  Metastatic Sites  \n",
       "0                 935               935  \n",
       "1                 958               958  "
      ]
     },
     "execution_count": 12,
     "metadata": {},
     "output_type": "execute_result"
    }
   ],
   "source": [
    "# Generate a pie plot showing the distribution of female versus male mice using pandas\n",
    "gender_df = pd.DataFrame(merge_table.groupby([\"Sex\"]).count()).reset_index()\n",
    "gender_df.head()"
   ]
  },
  {
   "cell_type": "code",
   "execution_count": 13,
   "metadata": {},
   "outputs": [
    {
     "data": {
      "text/html": [
       "<div>\n",
       "<style scoped>\n",
       "    .dataframe tbody tr th:only-of-type {\n",
       "        vertical-align: middle;\n",
       "    }\n",
       "\n",
       "    .dataframe tbody tr th {\n",
       "        vertical-align: top;\n",
       "    }\n",
       "\n",
       "    .dataframe thead th {\n",
       "        text-align: right;\n",
       "    }\n",
       "</style>\n",
       "<table border=\"1\" class=\"dataframe\">\n",
       "  <thead>\n",
       "    <tr style=\"text-align: right;\">\n",
       "      <th></th>\n",
       "      <th>Sex</th>\n",
       "      <th>Count</th>\n",
       "    </tr>\n",
       "  </thead>\n",
       "  <tbody>\n",
       "    <tr>\n",
       "      <th>0</th>\n",
       "      <td>Female</td>\n",
       "      <td>935</td>\n",
       "    </tr>\n",
       "    <tr>\n",
       "      <th>1</th>\n",
       "      <td>Male</td>\n",
       "      <td>958</td>\n",
       "    </tr>\n",
       "  </tbody>\n",
       "</table>\n",
       "</div>"
      ],
      "text/plain": [
       "      Sex  Count\n",
       "0  Female    935\n",
       "1    Male    958"
      ]
     },
     "execution_count": 13,
     "metadata": {},
     "output_type": "execute_result"
    }
   ],
   "source": [
    "# Filter the DataFrame down only to those columns to chart\n",
    "gender_df = gender_df[[\"Sex\",\"Mouse ID\"]]\n",
    "gender_df = gender_df.rename(columns={\"Mouse ID\": \"Count\"})\n",
    "gender_df.head()"
   ]
  },
  {
   "cell_type": "code",
   "execution_count": 14,
   "metadata": {},
   "outputs": [
    {
     "data": {
      "text/plain": [
       "<matplotlib.axes._subplots.AxesSubplot at 0x7fe226d7c190>"
      ]
     },
     "execution_count": 14,
     "metadata": {},
     "output_type": "execute_result"
    },
    {
     "data": {
      "image/png": "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\n",
      "text/plain": [
       "<Figure size 720x432 with 1 Axes>"
      ]
     },
     "metadata": {},
     "output_type": "display_data"
    }
   ],
   "source": [
    "# plot chart\n",
    "plt.figure(figsize=(10,6))\n",
    "ax1 = plt.subplot(121, aspect='equal')\n",
    "gender_df.plot(kind='pie', y = \"Count\", ax=ax1, autopct='%1.1f%%', \n",
    " startangle=90, shadow=False, labels=gender_df['Sex'], legend = False, fontsize=16)\n",
    "\n"
   ]
  },
  {
   "cell_type": "code",
   "execution_count": 15,
   "metadata": {},
   "outputs": [
    {
     "data": {
      "text/plain": [
       "[935, 958]"
      ]
     },
     "execution_count": 15,
     "metadata": {},
     "output_type": "execute_result"
    }
   ],
   "source": [
    "import matplotlib.pyplot as plt\n",
    "# Generate a pie plot showing the distribution of female versus male mice using pyplot\n",
    "# Convert Columns into lists\n",
    "gender_count = (merge_table.groupby([\"Sex\"])[\"Age_months\"].count()).tolist()\n",
    "gender_count"
   ]
  },
  {
   "cell_type": "code",
   "execution_count": 16,
   "metadata": {},
   "outputs": [],
   "source": [
    "# Labels for the sections of our pie chart\n",
    "labels = [\"Females\", \"Males\"]\n",
    "\n",
    "# The colors of each section of the pie chart\n",
    "colors = [\"pink\", \"blue\"]\n",
    "\n",
    "# Tells matplotlib to seperate the \"Python\" section from the others\n",
    "explode = (0.1, 0)"
   ]
  },
  {
   "cell_type": "code",
   "execution_count": 17,
   "metadata": {},
   "outputs": [
    {
     "data": {
      "text/plain": [
       "([<matplotlib.patches.Wedge at 0x7fe226fd7430>,\n",
       "  <matplotlib.patches.Wedge at 0x7fe226fd7b20>],\n",
       " [Text(-0.7887477729166416, -0.904365496201087, 'Females'),\n",
       "  Text(0.723018791840255, 0.8290017048509963, 'Males')],\n",
       " [Text(-0.4601028675347076, -0.527546539450634, '49.4%'),\n",
       "  Text(0.39437388645832083, 0.4521827481005434, '50.6%')])"
      ]
     },
     "execution_count": 17,
     "metadata": {},
     "output_type": "execute_result"
    },
    {
     "data": {
      "image/png": "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\n",
      "text/plain": [
       "<Figure size 432x288 with 1 Axes>"
      ]
     },
     "metadata": {},
     "output_type": "display_data"
    }
   ],
   "source": [
    "# Creates the pie chart based upon the values above\n",
    "# Automatically finds the percentages of each part of the pie chart\n",
    "plt.pie(gender_count, explode=explode, labels=labels, colors=colors,\n",
    "        autopct=\"%1.1f%%\", shadow=True, startangle=140)"
   ]
  },
  {
   "cell_type": "markdown",
   "metadata": {},
   "source": [
    "## Quartiles, Outliers and Boxplots"
   ]
  },
  {
   "cell_type": "code",
   "execution_count": 18,
   "metadata": {},
   "outputs": [
    {
     "data": {
      "text/html": [
       "<div>\n",
       "<style scoped>\n",
       "    .dataframe tbody tr th:only-of-type {\n",
       "        vertical-align: middle;\n",
       "    }\n",
       "\n",
       "    .dataframe tbody tr th {\n",
       "        vertical-align: top;\n",
       "    }\n",
       "\n",
       "    .dataframe thead th {\n",
       "        text-align: right;\n",
       "    }\n",
       "</style>\n",
       "<table border=\"1\" class=\"dataframe\">\n",
       "  <thead>\n",
       "    <tr style=\"text-align: right;\">\n",
       "      <th></th>\n",
       "      <th>Mouse ID</th>\n",
       "      <th>Drug Regimen</th>\n",
       "      <th>Sex</th>\n",
       "      <th>Age_months</th>\n",
       "      <th>Weight (g)</th>\n",
       "      <th>Timepoint</th>\n",
       "      <th>Tumor Volume (mm3)</th>\n",
       "      <th>Metastatic Sites</th>\n",
       "    </tr>\n",
       "  </thead>\n",
       "  <tbody>\n",
       "    <tr>\n",
       "      <th>0</th>\n",
       "      <td>k403</td>\n",
       "      <td>Ramicane</td>\n",
       "      <td>Male</td>\n",
       "      <td>21</td>\n",
       "      <td>16</td>\n",
       "      <td>0</td>\n",
       "      <td>45.000000</td>\n",
       "      <td>0</td>\n",
       "    </tr>\n",
       "    <tr>\n",
       "      <th>1</th>\n",
       "      <td>k403</td>\n",
       "      <td>Ramicane</td>\n",
       "      <td>Male</td>\n",
       "      <td>21</td>\n",
       "      <td>16</td>\n",
       "      <td>5</td>\n",
       "      <td>38.825898</td>\n",
       "      <td>0</td>\n",
       "    </tr>\n",
       "    <tr>\n",
       "      <th>2</th>\n",
       "      <td>k403</td>\n",
       "      <td>Ramicane</td>\n",
       "      <td>Male</td>\n",
       "      <td>21</td>\n",
       "      <td>16</td>\n",
       "      <td>10</td>\n",
       "      <td>35.014271</td>\n",
       "      <td>1</td>\n",
       "    </tr>\n",
       "    <tr>\n",
       "      <th>3</th>\n",
       "      <td>k403</td>\n",
       "      <td>Ramicane</td>\n",
       "      <td>Male</td>\n",
       "      <td>21</td>\n",
       "      <td>16</td>\n",
       "      <td>15</td>\n",
       "      <td>34.223992</td>\n",
       "      <td>1</td>\n",
       "    </tr>\n",
       "    <tr>\n",
       "      <th>4</th>\n",
       "      <td>k403</td>\n",
       "      <td>Ramicane</td>\n",
       "      <td>Male</td>\n",
       "      <td>21</td>\n",
       "      <td>16</td>\n",
       "      <td>20</td>\n",
       "      <td>32.997729</td>\n",
       "      <td>1</td>\n",
       "    </tr>\n",
       "  </tbody>\n",
       "</table>\n",
       "</div>"
      ],
      "text/plain": [
       "  Mouse ID Drug Regimen   Sex  Age_months  Weight (g)  Timepoint  \\\n",
       "0     k403     Ramicane  Male          21          16          0   \n",
       "1     k403     Ramicane  Male          21          16          5   \n",
       "2     k403     Ramicane  Male          21          16         10   \n",
       "3     k403     Ramicane  Male          21          16         15   \n",
       "4     k403     Ramicane  Male          21          16         20   \n",
       "\n",
       "   Tumor Volume (mm3)  Metastatic Sites  \n",
       "0           45.000000                 0  \n",
       "1           38.825898                 0  \n",
       "2           35.014271                 1  \n",
       "3           34.223992                 1  \n",
       "4           32.997729                 1  "
      ]
     },
     "execution_count": 18,
     "metadata": {},
     "output_type": "execute_result"
    }
   ],
   "source": [
    "# Calculate the final tumor volume of each mouse across four of the most promising treatment regimens. Calculate the IQR and quantitatively determine if there are any potential outliers.\n",
    "merge_table.head()"
   ]
  },
  {
   "cell_type": "code",
   "execution_count": 19,
   "metadata": {},
   "outputs": [
    {
     "data": {
      "text/html": [
       "<div>\n",
       "<style scoped>\n",
       "    .dataframe tbody tr th:only-of-type {\n",
       "        vertical-align: middle;\n",
       "    }\n",
       "\n",
       "    .dataframe tbody tr th {\n",
       "        vertical-align: top;\n",
       "    }\n",
       "\n",
       "    .dataframe thead th {\n",
       "        text-align: right;\n",
       "    }\n",
       "</style>\n",
       "<table border=\"1\" class=\"dataframe\">\n",
       "  <thead>\n",
       "    <tr style=\"text-align: right;\">\n",
       "      <th></th>\n",
       "      <th>index</th>\n",
       "      <th>Mouse ID</th>\n",
       "      <th>Drug Regimen</th>\n",
       "      <th>Sex</th>\n",
       "      <th>Age_months</th>\n",
       "      <th>Weight (g)</th>\n",
       "      <th>Timepoint</th>\n",
       "      <th>Tumor Volume (mm3)</th>\n",
       "      <th>Metastatic Sites</th>\n",
       "    </tr>\n",
       "  </thead>\n",
       "  <tbody>\n",
       "    <tr>\n",
       "      <th>0</th>\n",
       "      <td>309</td>\n",
       "      <td>b128</td>\n",
       "      <td>Capomulin</td>\n",
       "      <td>Female</td>\n",
       "      <td>9</td>\n",
       "      <td>22</td>\n",
       "      <td>45</td>\n",
       "      <td>38.982878</td>\n",
       "      <td>2</td>\n",
       "    </tr>\n",
       "    <tr>\n",
       "      <th>1</th>\n",
       "      <td>299</td>\n",
       "      <td>b742</td>\n",
       "      <td>Capomulin</td>\n",
       "      <td>Male</td>\n",
       "      <td>7</td>\n",
       "      <td>21</td>\n",
       "      <td>45</td>\n",
       "      <td>38.939633</td>\n",
       "      <td>0</td>\n",
       "    </tr>\n",
       "    <tr>\n",
       "      <th>2</th>\n",
       "      <td>244</td>\n",
       "      <td>g288</td>\n",
       "      <td>Capomulin</td>\n",
       "      <td>Male</td>\n",
       "      <td>3</td>\n",
       "      <td>19</td>\n",
       "      <td>45</td>\n",
       "      <td>37.074024</td>\n",
       "      <td>1</td>\n",
       "    </tr>\n",
       "    <tr>\n",
       "      <th>3</th>\n",
       "      <td>360</td>\n",
       "      <td>g316</td>\n",
       "      <td>Capomulin</td>\n",
       "      <td>Female</td>\n",
       "      <td>22</td>\n",
       "      <td>22</td>\n",
       "      <td>45</td>\n",
       "      <td>40.159220</td>\n",
       "      <td>2</td>\n",
       "    </tr>\n",
       "    <tr>\n",
       "      <th>4</th>\n",
       "      <td>440</td>\n",
       "      <td>i557</td>\n",
       "      <td>Capomulin</td>\n",
       "      <td>Female</td>\n",
       "      <td>1</td>\n",
       "      <td>24</td>\n",
       "      <td>45</td>\n",
       "      <td>47.685963</td>\n",
       "      <td>1</td>\n",
       "    </tr>\n",
       "  </tbody>\n",
       "</table>\n",
       "</div>"
      ],
      "text/plain": [
       "   index Mouse ID Drug Regimen     Sex  Age_months  Weight (g)  Timepoint  \\\n",
       "0    309     b128    Capomulin  Female           9          22         45   \n",
       "1    299     b742    Capomulin    Male           7          21         45   \n",
       "2    244     g288    Capomulin    Male           3          19         45   \n",
       "3    360     g316    Capomulin  Female          22          22         45   \n",
       "4    440     i557    Capomulin  Female           1          24         45   \n",
       "\n",
       "   Tumor Volume (mm3)  Metastatic Sites  \n",
       "0           38.982878                 2  \n",
       "1           38.939633                 0  \n",
       "2           37.074024                 1  \n",
       "3           40.159220                 2  \n",
       "4           47.685963                 1  "
      ]
     },
     "execution_count": 19,
     "metadata": {},
     "output_type": "execute_result"
    }
   ],
   "source": [
    "# Sort data by Drug Regime, Mouse ID and Timepoint\n",
    "sorted_df = merge_table.sort_values([\"Drug Regimen\", \"Mouse ID\", \"Timepoint\"], ascending=True)\n",
    "# Select final volume of each mouse \n",
    "max_df = sorted_df.loc[sorted_df[\"Timepoint\"] == 45]\n",
    "max_df.head().reset_index()"
   ]
  },
  {
   "cell_type": "code",
   "execution_count": 20,
   "metadata": {},
   "outputs": [
    {
     "data": {
      "text/html": [
       "<div>\n",
       "<style scoped>\n",
       "    .dataframe tbody tr th:only-of-type {\n",
       "        vertical-align: middle;\n",
       "    }\n",
       "\n",
       "    .dataframe tbody tr th {\n",
       "        vertical-align: top;\n",
       "    }\n",
       "\n",
       "    .dataframe thead th {\n",
       "        text-align: right;\n",
       "    }\n",
       "</style>\n",
       "<table border=\"1\" class=\"dataframe\">\n",
       "  <thead>\n",
       "    <tr style=\"text-align: right;\">\n",
       "      <th></th>\n",
       "      <th>index</th>\n",
       "      <th>Mouse ID</th>\n",
       "      <th>Drug Regimen</th>\n",
       "      <th>Sex</th>\n",
       "      <th>Age_months</th>\n",
       "      <th>Weight (g)</th>\n",
       "      <th>Timepoint</th>\n",
       "      <th>Tumor Volume (mm3)</th>\n",
       "      <th>Metastatic Sites</th>\n",
       "    </tr>\n",
       "  </thead>\n",
       "  <tbody>\n",
       "    <tr>\n",
       "      <th>0</th>\n",
       "      <td>309</td>\n",
       "      <td>b128</td>\n",
       "      <td>Capomulin</td>\n",
       "      <td>Female</td>\n",
       "      <td>9</td>\n",
       "      <td>22</td>\n",
       "      <td>45</td>\n",
       "      <td>38.982878</td>\n",
       "      <td>2</td>\n",
       "    </tr>\n",
       "    <tr>\n",
       "      <th>1</th>\n",
       "      <td>299</td>\n",
       "      <td>b742</td>\n",
       "      <td>Capomulin</td>\n",
       "      <td>Male</td>\n",
       "      <td>7</td>\n",
       "      <td>21</td>\n",
       "      <td>45</td>\n",
       "      <td>38.939633</td>\n",
       "      <td>0</td>\n",
       "    </tr>\n",
       "    <tr>\n",
       "      <th>2</th>\n",
       "      <td>244</td>\n",
       "      <td>g288</td>\n",
       "      <td>Capomulin</td>\n",
       "      <td>Male</td>\n",
       "      <td>3</td>\n",
       "      <td>19</td>\n",
       "      <td>45</td>\n",
       "      <td>37.074024</td>\n",
       "      <td>1</td>\n",
       "    </tr>\n",
       "    <tr>\n",
       "      <th>3</th>\n",
       "      <td>360</td>\n",
       "      <td>g316</td>\n",
       "      <td>Capomulin</td>\n",
       "      <td>Female</td>\n",
       "      <td>22</td>\n",
       "      <td>22</td>\n",
       "      <td>45</td>\n",
       "      <td>40.159220</td>\n",
       "      <td>2</td>\n",
       "    </tr>\n",
       "    <tr>\n",
       "      <th>4</th>\n",
       "      <td>440</td>\n",
       "      <td>i557</td>\n",
       "      <td>Capomulin</td>\n",
       "      <td>Female</td>\n",
       "      <td>1</td>\n",
       "      <td>24</td>\n",
       "      <td>45</td>\n",
       "      <td>47.685963</td>\n",
       "      <td>1</td>\n",
       "    </tr>\n",
       "  </tbody>\n",
       "</table>\n",
       "</div>"
      ],
      "text/plain": [
       "   index Mouse ID Drug Regimen     Sex  Age_months  Weight (g)  Timepoint  \\\n",
       "0    309     b128    Capomulin  Female           9          22         45   \n",
       "1    299     b742    Capomulin    Male           7          21         45   \n",
       "2    244     g288    Capomulin    Male           3          19         45   \n",
       "3    360     g316    Capomulin  Female          22          22         45   \n",
       "4    440     i557    Capomulin  Female           1          24         45   \n",
       "\n",
       "   Tumor Volume (mm3)  Metastatic Sites  \n",
       "0           38.982878                 2  \n",
       "1           38.939633                 0  \n",
       "2           37.074024                 1  \n",
       "3           40.159220                 2  \n",
       "4           47.685963                 1  "
      ]
     },
     "execution_count": 20,
     "metadata": {},
     "output_type": "execute_result"
    }
   ],
   "source": [
    "# Select data for Capomulin regimen and reset index\n",
    "cap_data_df = max_df[max_df['Drug Regimen'].isin(['Capomulin'])]\n",
    "cap_data_df.head().reset_index()"
   ]
  },
  {
   "cell_type": "code",
   "execution_count": 21,
   "metadata": {},
   "outputs": [
    {
     "data": {
      "text/plain": [
       "0     23.343598\n",
       "1     28.430964\n",
       "2     28.484033\n",
       "3     31.023923\n",
       "4     31.896238\n",
       "5     32.377357\n",
       "6     33.329098\n",
       "7     34.455298\n",
       "8     36.041047\n",
       "9     37.074024\n",
       "10    37.311846\n",
       "11    38.125164\n",
       "12    38.846876\n",
       "13    38.939633\n",
       "14    38.982878\n",
       "15    40.159220\n",
       "16    40.658124\n",
       "17    40.728578\n",
       "18    41.483008\n",
       "19    41.581521\n",
       "20    47.685963\n",
       "Name: Tumor Volume (mm3), dtype: float64"
      ]
     },
     "execution_count": 21,
     "metadata": {},
     "output_type": "execute_result"
    }
   ],
   "source": [
    "# Convert column \"Tumor Volume\" of the Capomulin regimen into a dataframe object\n",
    "cap_list = cap_data_df.sort_values([\"Tumor Volume (mm3)\"], ascending=True).reset_index()\n",
    "cap_list = cap_list[\"Tumor Volume (mm3)\"]\n",
    "cap_list"
   ]
  },
  {
   "cell_type": "code",
   "execution_count": 22,
   "metadata": {},
   "outputs": [
    {
     "name": "stdout",
     "output_type": "stream",
     "text": [
      "The lower quartile of temperatures is: 32.37735684\n",
      "The upper quartile of temperatures is: 40.1592203\n",
      "The interquartile range of temperatures is: 7.781863460000004\n",
      "The the median of temperatures is: 37.31184577 \n",
      "Values below 20.70456164999999 could be outliers.\n",
      "Values above 51.83201549 could be outliers.\n"
     ]
    }
   ],
   "source": [
    "# If the data is in a dataframe, we use pandas to give quartile calculations\n",
    "quartiles = cap_list.quantile([.25,.5,.75])\n",
    "lowerq = quartiles[0.25]\n",
    "upperq = quartiles[0.75]\n",
    "iqr = upperq-lowerq\n",
    "\n",
    "print(f\"The lower quartile of temperatures is: {lowerq}\")\n",
    "print(f\"The upper quartile of temperatures is: {upperq}\")\n",
    "print(f\"The interquartile range of temperatures is: {iqr}\")\n",
    "print(f\"The the median of temperatures is: {quartiles[0.5]} \")\n",
    "\n",
    "lower_bound = lowerq - (1.5*iqr)\n",
    "upper_bound = upperq + (1.5*iqr)\n",
    "print(f\"Values below {lower_bound} could be outliers.\")\n",
    "print(f\"Values above {upper_bound} could be outliers.\")"
   ]
  },
  {
   "cell_type": "code",
   "execution_count": 23,
   "metadata": {},
   "outputs": [
    {
     "data": {
      "image/png": "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\n",
      "text/plain": [
       "<Figure size 432x288 with 1 Axes>"
      ]
     },
     "metadata": {
      "needs_background": "light"
     },
     "output_type": "display_data"
    }
   ],
   "source": [
    "# Example outlier plot of final total volume\n",
    "fig1, ax1 = plt.subplots()\n",
    "ax1.set_title('Final Tumor Volume in Capomulin Regimen')\n",
    "ax1.set_ylabel('Final Tumor Volume (mm3)')\n",
    "ax1.boxplot(cap_list)\n",
    "plt.show()"
   ]
  },
  {
   "cell_type": "code",
   "execution_count": 24,
   "metadata": {},
   "outputs": [
    {
     "data": {
      "text/html": [
       "<div>\n",
       "<style scoped>\n",
       "    .dataframe tbody tr th:only-of-type {\n",
       "        vertical-align: middle;\n",
       "    }\n",
       "\n",
       "    .dataframe tbody tr th {\n",
       "        vertical-align: top;\n",
       "    }\n",
       "\n",
       "    .dataframe thead th {\n",
       "        text-align: right;\n",
       "    }\n",
       "</style>\n",
       "<table border=\"1\" class=\"dataframe\">\n",
       "  <thead>\n",
       "    <tr style=\"text-align: right;\">\n",
       "      <th></th>\n",
       "      <th>index</th>\n",
       "      <th>Mouse ID</th>\n",
       "      <th>Drug Regimen</th>\n",
       "      <th>Sex</th>\n",
       "      <th>Age_months</th>\n",
       "      <th>Weight (g)</th>\n",
       "      <th>Timepoint</th>\n",
       "      <th>Tumor Volume (mm3)</th>\n",
       "      <th>Metastatic Sites</th>\n",
       "    </tr>\n",
       "  </thead>\n",
       "  <tbody>\n",
       "    <tr>\n",
       "      <th>0</th>\n",
       "      <td>327</td>\n",
       "      <td>a411</td>\n",
       "      <td>Ramicane</td>\n",
       "      <td>Male</td>\n",
       "      <td>3</td>\n",
       "      <td>22</td>\n",
       "      <td>45</td>\n",
       "      <td>38.407618</td>\n",
       "      <td>1</td>\n",
       "    </tr>\n",
       "    <tr>\n",
       "      <th>1</th>\n",
       "      <td>430</td>\n",
       "      <td>a444</td>\n",
       "      <td>Ramicane</td>\n",
       "      <td>Female</td>\n",
       "      <td>10</td>\n",
       "      <td>25</td>\n",
       "      <td>45</td>\n",
       "      <td>43.047543</td>\n",
       "      <td>0</td>\n",
       "    </tr>\n",
       "    <tr>\n",
       "      <th>2</th>\n",
       "      <td>214</td>\n",
       "      <td>a520</td>\n",
       "      <td>Ramicane</td>\n",
       "      <td>Male</td>\n",
       "      <td>13</td>\n",
       "      <td>21</td>\n",
       "      <td>45</td>\n",
       "      <td>38.810366</td>\n",
       "      <td>1</td>\n",
       "    </tr>\n",
       "    <tr>\n",
       "      <th>3</th>\n",
       "      <td>174</td>\n",
       "      <td>a644</td>\n",
       "      <td>Ramicane</td>\n",
       "      <td>Female</td>\n",
       "      <td>7</td>\n",
       "      <td>17</td>\n",
       "      <td>45</td>\n",
       "      <td>32.978522</td>\n",
       "      <td>1</td>\n",
       "    </tr>\n",
       "    <tr>\n",
       "      <th>4</th>\n",
       "      <td>154</td>\n",
       "      <td>c758</td>\n",
       "      <td>Ramicane</td>\n",
       "      <td>Male</td>\n",
       "      <td>9</td>\n",
       "      <td>17</td>\n",
       "      <td>45</td>\n",
       "      <td>33.397653</td>\n",
       "      <td>1</td>\n",
       "    </tr>\n",
       "  </tbody>\n",
       "</table>\n",
       "</div>"
      ],
      "text/plain": [
       "   index Mouse ID Drug Regimen     Sex  Age_months  Weight (g)  Timepoint  \\\n",
       "0    327     a411     Ramicane    Male           3          22         45   \n",
       "1    430     a444     Ramicane  Female          10          25         45   \n",
       "2    214     a520     Ramicane    Male          13          21         45   \n",
       "3    174     a644     Ramicane  Female           7          17         45   \n",
       "4    154     c758     Ramicane    Male           9          17         45   \n",
       "\n",
       "   Tumor Volume (mm3)  Metastatic Sites  \n",
       "0           38.407618                 1  \n",
       "1           43.047543                 0  \n",
       "2           38.810366                 1  \n",
       "3           32.978522                 1  \n",
       "4           33.397653                 1  "
      ]
     },
     "execution_count": 24,
     "metadata": {},
     "output_type": "execute_result"
    }
   ],
   "source": [
    "# Select data for Ramicane regimen and reset index\n",
    "ram_data_df = max_df[max_df['Drug Regimen'].isin(['Ramicane'])]\n",
    "ram_data_df.head().reset_index()"
   ]
  },
  {
   "cell_type": "code",
   "execution_count": 25,
   "metadata": {},
   "outputs": [
    {
     "data": {
      "text/plain": [
       "0     22.050126\n",
       "1     29.128472\n",
       "2     30.276232\n",
       "3     30.564625\n",
       "4     30.638696\n",
       "5     31.095335\n",
       "6     31.560470\n",
       "7     32.978522\n",
       "8     33.397653\n",
       "9     33.562402\n",
       "10    36.134852\n",
       "11    36.374510\n",
       "12    37.225650\n",
       "13    37.311236\n",
       "14    38.407618\n",
       "15    38.810366\n",
       "16    40.659006\n",
       "17    40.667713\n",
       "18    43.047543\n",
       "19    45.220869\n",
       "Name: Tumor Volume (mm3), dtype: float64"
      ]
     },
     "execution_count": 25,
     "metadata": {},
     "output_type": "execute_result"
    }
   ],
   "source": [
    "# Convert column \"Tumor Volume\" of the Ramicane regimen into a dataframe object\n",
    "ram_list = ram_data_df.sort_values([\"Tumor Volume (mm3)\"], ascending=True).reset_index()\n",
    "ram_list = ram_list[\"Tumor Volume (mm3)\"]\n",
    "ram_list"
   ]
  },
  {
   "cell_type": "code",
   "execution_count": 26,
   "metadata": {},
   "outputs": [
    {
     "name": "stdout",
     "output_type": "stream",
     "text": [
      "The lower quartile of temperatures is: 30.981175224999998\n",
      "The upper quartile of temperatures is: 38.508305307499995\n",
      "The interquartile range of temperatures is: 7.527130082499998\n",
      "The the median of temperatures is: 34.848627300000004 \n",
      "Values below 19.690480101250003 could be outliers.\n",
      "Values above 49.79900043124999 could be outliers.\n"
     ]
    }
   ],
   "source": [
    "# If the data is in a dataframe, we use pandas to give quartile calculations\n",
    "quartiles = ram_list.quantile([.25,.5,.75])\n",
    "lowerq = quartiles[0.25]\n",
    "upperq = quartiles[0.75]\n",
    "iqr = upperq-lowerq\n",
    "\n",
    "print(f\"The lower quartile of temperatures is: {lowerq}\")\n",
    "print(f\"The upper quartile of temperatures is: {upperq}\")\n",
    "print(f\"The interquartile range of temperatures is: {iqr}\")\n",
    "print(f\"The the median of temperatures is: {quartiles[0.5]} \")\n",
    "\n",
    "lower_bound = lowerq - (1.5*iqr)\n",
    "upper_bound = upperq + (1.5*iqr)\n",
    "print(f\"Values below {lower_bound} could be outliers.\")\n",
    "print(f\"Values above {upper_bound} could be outliers.\")"
   ]
  },
  {
   "cell_type": "code",
   "execution_count": 27,
   "metadata": {},
   "outputs": [
    {
     "data": {
      "image/png": "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\n",
      "text/plain": [
       "<Figure size 432x288 with 1 Axes>"
      ]
     },
     "metadata": {
      "needs_background": "light"
     },
     "output_type": "display_data"
    }
   ],
   "source": [
    "# outlier plot of final total volumes\n",
    "fig1, ax1 = plt.subplots()\n",
    "ax1.set_title('Final Tumor Volume in Ramicane Regimen')\n",
    "ax1.set_ylabel('Final Tumor Volume (mm3)')\n",
    "ax1.boxplot(cap_list)\n",
    "plt.show()"
   ]
  },
  {
   "cell_type": "code",
   "execution_count": 28,
   "metadata": {},
   "outputs": [
    {
     "data": {
      "text/html": [
       "<div>\n",
       "<style scoped>\n",
       "    .dataframe tbody tr th:only-of-type {\n",
       "        vertical-align: middle;\n",
       "    }\n",
       "\n",
       "    .dataframe tbody tr th {\n",
       "        vertical-align: top;\n",
       "    }\n",
       "\n",
       "    .dataframe thead th {\n",
       "        text-align: right;\n",
       "    }\n",
       "</style>\n",
       "<table border=\"1\" class=\"dataframe\">\n",
       "  <thead>\n",
       "    <tr style=\"text-align: right;\">\n",
       "      <th></th>\n",
       "      <th>index</th>\n",
       "      <th>Mouse ID</th>\n",
       "      <th>Drug Regimen</th>\n",
       "      <th>Sex</th>\n",
       "      <th>Age_months</th>\n",
       "      <th>Weight (g)</th>\n",
       "      <th>Timepoint</th>\n",
       "      <th>Tumor Volume (mm3)</th>\n",
       "      <th>Metastatic Sites</th>\n",
       "    </tr>\n",
       "  </thead>\n",
       "  <tbody>\n",
       "    <tr>\n",
       "      <th>0</th>\n",
       "      <td>463</td>\n",
       "      <td>a203</td>\n",
       "      <td>Infubinol</td>\n",
       "      <td>Female</td>\n",
       "      <td>20</td>\n",
       "      <td>23</td>\n",
       "      <td>45</td>\n",
       "      <td>67.973419</td>\n",
       "      <td>2</td>\n",
       "    </tr>\n",
       "    <tr>\n",
       "      <th>1</th>\n",
       "      <td>473</td>\n",
       "      <td>a251</td>\n",
       "      <td>Infubinol</td>\n",
       "      <td>Female</td>\n",
       "      <td>21</td>\n",
       "      <td>25</td>\n",
       "      <td>45</td>\n",
       "      <td>65.525743</td>\n",
       "      <td>1</td>\n",
       "    </tr>\n",
       "    <tr>\n",
       "      <th>2</th>\n",
       "      <td>540</td>\n",
       "      <td>a685</td>\n",
       "      <td>Infubinol</td>\n",
       "      <td>Male</td>\n",
       "      <td>8</td>\n",
       "      <td>30</td>\n",
       "      <td>45</td>\n",
       "      <td>66.083066</td>\n",
       "      <td>3</td>\n",
       "    </tr>\n",
       "    <tr>\n",
       "      <th>3</th>\n",
       "      <td>637</td>\n",
       "      <td>c139</td>\n",
       "      <td>Infubinol</td>\n",
       "      <td>Male</td>\n",
       "      <td>11</td>\n",
       "      <td>28</td>\n",
       "      <td>45</td>\n",
       "      <td>72.226731</td>\n",
       "      <td>2</td>\n",
       "    </tr>\n",
       "    <tr>\n",
       "      <th>4</th>\n",
       "      <td>800</td>\n",
       "      <td>e476</td>\n",
       "      <td>Infubinol</td>\n",
       "      <td>Male</td>\n",
       "      <td>23</td>\n",
       "      <td>26</td>\n",
       "      <td>45</td>\n",
       "      <td>62.435404</td>\n",
       "      <td>1</td>\n",
       "    </tr>\n",
       "  </tbody>\n",
       "</table>\n",
       "</div>"
      ],
      "text/plain": [
       "   index Mouse ID Drug Regimen     Sex  Age_months  Weight (g)  Timepoint  \\\n",
       "0    463     a203    Infubinol  Female          20          23         45   \n",
       "1    473     a251    Infubinol  Female          21          25         45   \n",
       "2    540     a685    Infubinol    Male           8          30         45   \n",
       "3    637     c139    Infubinol    Male          11          28         45   \n",
       "4    800     e476    Infubinol    Male          23          26         45   \n",
       "\n",
       "   Tumor Volume (mm3)  Metastatic Sites  \n",
       "0           67.973419                 2  \n",
       "1           65.525743                 1  \n",
       "2           66.083066                 3  \n",
       "3           72.226731                 2  \n",
       "4           62.435404                 1  "
      ]
     },
     "execution_count": 28,
     "metadata": {},
     "output_type": "execute_result"
    }
   ],
   "source": [
    "# Select data for Infubinol regimen and reset index\n",
    "inf_data_df = max_df[max_df['Drug Regimen'].isin(['Infubinol'])]\n",
    "inf_data_df.head().reset_index()"
   ]
  },
  {
   "cell_type": "code",
   "execution_count": 29,
   "metadata": {},
   "outputs": [
    {
     "data": {
      "text/plain": [
       "0    60.918767\n",
       "1    62.435404\n",
       "2    62.754451\n",
       "3    65.525743\n",
       "4    66.083066\n",
       "5    66.196912\n",
       "6    67.685569\n",
       "7    67.973419\n",
       "8    72.226731\n",
       "Name: Tumor Volume (mm3), dtype: float64"
      ]
     },
     "execution_count": 29,
     "metadata": {},
     "output_type": "execute_result"
    }
   ],
   "source": [
    "# Convert column \"Tumor Volume\" of the Infubinol regimen into a dataframe object\n",
    "inf_list = inf_data_df.sort_values([\"Tumor Volume (mm3)\"], ascending=True).reset_index()\n",
    "inf_list = inf_list[\"Tumor Volume (mm3)\"]\n",
    "inf_list"
   ]
  },
  {
   "cell_type": "code",
   "execution_count": 30,
   "metadata": {},
   "outputs": [
    {
     "name": "stdout",
     "output_type": "stream",
     "text": [
      "The lower quartile of temperatures is: 62.75445141\n",
      "The upper quartile of temperatures is: 67.68556862\n",
      "The interquartile range of temperatures is: 4.9311172099999965\n",
      "The the median of temperatures is: 66.08306589 \n",
      "Values below 55.35777559500001 could be outliers.\n",
      "Values above 75.08224443499999 could be outliers.\n"
     ]
    }
   ],
   "source": [
    "# If the data is in a dataframe, we use pandas to give quartile calculations\n",
    "quartiles = inf_list.quantile([.25,.5,.75])\n",
    "lowerq = quartiles[0.25]\n",
    "upperq = quartiles[0.75]\n",
    "iqr = upperq-lowerq\n",
    "\n",
    "print(f\"The lower quartile of temperatures is: {lowerq}\")\n",
    "print(f\"The upper quartile of temperatures is: {upperq}\")\n",
    "print(f\"The interquartile range of temperatures is: {iqr}\")\n",
    "print(f\"The the median of temperatures is: {quartiles[0.5]} \")\n",
    "\n",
    "lower_bound = lowerq - (1.5*iqr)\n",
    "upper_bound = upperq + (1.5*iqr)\n",
    "print(f\"Values below {lower_bound} could be outliers.\")\n",
    "print(f\"Values above {upper_bound} could be outliers.\")"
   ]
  },
  {
   "cell_type": "code",
   "execution_count": 31,
   "metadata": {},
   "outputs": [
    {
     "data": {
      "image/png": "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\n",
      "text/plain": [
       "<Figure size 432x288 with 1 Axes>"
      ]
     },
     "metadata": {
      "needs_background": "light"
     },
     "output_type": "display_data"
    }
   ],
   "source": [
    "# outlier plot of final total volumes\n",
    "fig1, ax1 = plt.subplots()\n",
    "ax1.set_title('Final Tumor Volume in Infubinol Regimen')\n",
    "ax1.set_ylabel('Final Tumor Volume (mm3)')\n",
    "ax1.boxplot(inf_list)\n",
    "plt.show()\n"
   ]
  },
  {
   "cell_type": "code",
   "execution_count": 32,
   "metadata": {},
   "outputs": [
    {
     "data": {
      "text/html": [
       "<div>\n",
       "<style scoped>\n",
       "    .dataframe tbody tr th:only-of-type {\n",
       "        vertical-align: middle;\n",
       "    }\n",
       "\n",
       "    .dataframe tbody tr th {\n",
       "        vertical-align: top;\n",
       "    }\n",
       "\n",
       "    .dataframe thead th {\n",
       "        text-align: right;\n",
       "    }\n",
       "</style>\n",
       "<table border=\"1\" class=\"dataframe\">\n",
       "  <thead>\n",
       "    <tr style=\"text-align: right;\">\n",
       "      <th></th>\n",
       "      <th>index</th>\n",
       "      <th>Mouse ID</th>\n",
       "      <th>Drug Regimen</th>\n",
       "      <th>Sex</th>\n",
       "      <th>Age_months</th>\n",
       "      <th>Weight (g)</th>\n",
       "      <th>Timepoint</th>\n",
       "      <th>Tumor Volume (mm3)</th>\n",
       "      <th>Metastatic Sites</th>\n",
       "    </tr>\n",
       "  </thead>\n",
       "  <tbody>\n",
       "    <tr>\n",
       "      <th>0</th>\n",
       "      <td>493</td>\n",
       "      <td>a275</td>\n",
       "      <td>Ceftamin</td>\n",
       "      <td>Female</td>\n",
       "      <td>20</td>\n",
       "      <td>28</td>\n",
       "      <td>45</td>\n",
       "      <td>62.999356</td>\n",
       "      <td>3</td>\n",
       "    </tr>\n",
       "    <tr>\n",
       "      <th>1</th>\n",
       "      <td>993</td>\n",
       "      <td>j296</td>\n",
       "      <td>Ceftamin</td>\n",
       "      <td>Female</td>\n",
       "      <td>24</td>\n",
       "      <td>30</td>\n",
       "      <td>45</td>\n",
       "      <td>61.849023</td>\n",
       "      <td>3</td>\n",
       "    </tr>\n",
       "    <tr>\n",
       "      <th>2</th>\n",
       "      <td>1033</td>\n",
       "      <td>k210</td>\n",
       "      <td>Ceftamin</td>\n",
       "      <td>Male</td>\n",
       "      <td>15</td>\n",
       "      <td>28</td>\n",
       "      <td>45</td>\n",
       "      <td>68.923185</td>\n",
       "      <td>3</td>\n",
       "    </tr>\n",
       "    <tr>\n",
       "      <th>3</th>\n",
       "      <td>1112</td>\n",
       "      <td>l471</td>\n",
       "      <td>Ceftamin</td>\n",
       "      <td>Female</td>\n",
       "      <td>7</td>\n",
       "      <td>28</td>\n",
       "      <td>45</td>\n",
       "      <td>67.748662</td>\n",
       "      <td>1</td>\n",
       "    </tr>\n",
       "    <tr>\n",
       "      <th>4</th>\n",
       "      <td>1132</td>\n",
       "      <td>l661</td>\n",
       "      <td>Ceftamin</td>\n",
       "      <td>Male</td>\n",
       "      <td>18</td>\n",
       "      <td>26</td>\n",
       "      <td>45</td>\n",
       "      <td>59.851956</td>\n",
       "      <td>3</td>\n",
       "    </tr>\n",
       "  </tbody>\n",
       "</table>\n",
       "</div>"
      ],
      "text/plain": [
       "   index Mouse ID Drug Regimen     Sex  Age_months  Weight (g)  Timepoint  \\\n",
       "0    493     a275     Ceftamin  Female          20          28         45   \n",
       "1    993     j296     Ceftamin  Female          24          30         45   \n",
       "2   1033     k210     Ceftamin    Male          15          28         45   \n",
       "3   1112     l471     Ceftamin  Female           7          28         45   \n",
       "4   1132     l661     Ceftamin    Male          18          26         45   \n",
       "\n",
       "   Tumor Volume (mm3)  Metastatic Sites  \n",
       "0           62.999356                 3  \n",
       "1           61.849023                 3  \n",
       "2           68.923185                 3  \n",
       "3           67.748662                 1  \n",
       "4           59.851956                 3  "
      ]
     },
     "execution_count": 32,
     "metadata": {},
     "output_type": "execute_result"
    }
   ],
   "source": [
    "# Select data for Ceftamin regimen and reset index\n",
    "cef_data_df = max_df[max_df['Drug Regimen'].isin(['Ceftamin'])]\n",
    "cef_data_df.head().reset_index()"
   ]
  },
  {
   "cell_type": "code",
   "execution_count": 33,
   "metadata": {},
   "outputs": [
    {
     "data": {
      "text/plain": [
       "0     59.741901\n",
       "1     59.851956\n",
       "2     61.386660\n",
       "3     61.433892\n",
       "4     61.849023\n",
       "5     62.999356\n",
       "6     64.299830\n",
       "7     64.634949\n",
       "8     64.729837\n",
       "9     67.527482\n",
       "10    67.748662\n",
       "11    68.594745\n",
       "12    68.923185\n",
       "Name: Tumor Volume (mm3), dtype: float64"
      ]
     },
     "execution_count": 33,
     "metadata": {},
     "output_type": "execute_result"
    }
   ],
   "source": [
    "# Convert column \"Tumor Volume\" of the Ceftamin regimen into a dataframe object\n",
    "cef_list = cef_data_df.sort_values([\"Tumor Volume (mm3)\"], ascending=True).reset_index()\n",
    "cef_list = cef_list[\"Tumor Volume (mm3)\"]\n",
    "cef_list"
   ]
  },
  {
   "cell_type": "code",
   "execution_count": 34,
   "metadata": {},
   "outputs": [
    {
     "name": "stdout",
     "output_type": "stream",
     "text": [
      "The lower quartile of temperatures is: 61.43389223\n",
      "The upper quartile of temperatures is: 67.52748237\n",
      "The interquartile range of temperatures is: 6.093590140000003\n",
      "The the median of temperatures is: 64.29983003 \n",
      "Values below 52.29350701999999 could be outliers.\n",
      "Values above 76.66786758 could be outliers.\n"
     ]
    }
   ],
   "source": [
    "# If the data is in a dataframe, we use pandas to give quartile calculations\n",
    "quartiles = cef_list.quantile([.25,.5,.75])\n",
    "lowerq = quartiles[0.25]\n",
    "upperq = quartiles[0.75]\n",
    "iqr = upperq-lowerq\n",
    "\n",
    "print(f\"The lower quartile of temperatures is: {lowerq}\")\n",
    "print(f\"The upper quartile of temperatures is: {upperq}\")\n",
    "print(f\"The interquartile range of temperatures is: {iqr}\")\n",
    "print(f\"The the median of temperatures is: {quartiles[0.5]} \")\n",
    "\n",
    "lower_bound = lowerq - (1.5*iqr)\n",
    "upper_bound = upperq + (1.5*iqr)\n",
    "print(f\"Values below {lower_bound} could be outliers.\")\n",
    "print(f\"Values above {upper_bound} could be outliers.\")"
   ]
  },
  {
   "cell_type": "code",
   "execution_count": 35,
   "metadata": {},
   "outputs": [
    {
     "data": {
      "image/png": "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\n",
      "text/plain": [
       "<Figure size 432x288 with 1 Axes>"
      ]
     },
     "metadata": {
      "needs_background": "light"
     },
     "output_type": "display_data"
    }
   ],
   "source": [
    "# outlier plot of final total volumes\n",
    "fig1, ax1 = plt.subplots()\n",
    "ax1.set_title('Final Tumor Volume in Ceftamin Regimen')\n",
    "ax1.set_ylabel('Final Tumor Volume (mm3)')\n",
    "ax1.boxplot(cef_list)\n",
    "plt.show()"
   ]
  },
  {
   "cell_type": "markdown",
   "metadata": {},
   "source": [
    "## Line and Scatter Plots"
   ]
  },
  {
   "cell_type": "code",
   "execution_count": 36,
   "metadata": {},
   "outputs": [
    {
     "data": {
      "text/html": [
       "<div>\n",
       "<style scoped>\n",
       "    .dataframe tbody tr th:only-of-type {\n",
       "        vertical-align: middle;\n",
       "    }\n",
       "\n",
       "    .dataframe tbody tr th {\n",
       "        vertical-align: top;\n",
       "    }\n",
       "\n",
       "    .dataframe thead th {\n",
       "        text-align: right;\n",
       "    }\n",
       "</style>\n",
       "<table border=\"1\" class=\"dataframe\">\n",
       "  <thead>\n",
       "    <tr style=\"text-align: right;\">\n",
       "      <th></th>\n",
       "      <th>index</th>\n",
       "      <th>Mouse ID</th>\n",
       "      <th>Drug Regimen</th>\n",
       "      <th>Sex</th>\n",
       "      <th>Age_months</th>\n",
       "      <th>Weight (g)</th>\n",
       "      <th>Timepoint</th>\n",
       "      <th>Tumor Volume (mm3)</th>\n",
       "      <th>Metastatic Sites</th>\n",
       "    </tr>\n",
       "  </thead>\n",
       "  <tbody>\n",
       "    <tr>\n",
       "      <th>0</th>\n",
       "      <td>10</td>\n",
       "      <td>s185</td>\n",
       "      <td>Capomulin</td>\n",
       "      <td>Female</td>\n",
       "      <td>3</td>\n",
       "      <td>17</td>\n",
       "      <td>0</td>\n",
       "      <td>45.000000</td>\n",
       "      <td>0</td>\n",
       "    </tr>\n",
       "    <tr>\n",
       "      <th>1</th>\n",
       "      <td>11</td>\n",
       "      <td>s185</td>\n",
       "      <td>Capomulin</td>\n",
       "      <td>Female</td>\n",
       "      <td>3</td>\n",
       "      <td>17</td>\n",
       "      <td>5</td>\n",
       "      <td>43.878496</td>\n",
       "      <td>0</td>\n",
       "    </tr>\n",
       "    <tr>\n",
       "      <th>2</th>\n",
       "      <td>12</td>\n",
       "      <td>s185</td>\n",
       "      <td>Capomulin</td>\n",
       "      <td>Female</td>\n",
       "      <td>3</td>\n",
       "      <td>17</td>\n",
       "      <td>10</td>\n",
       "      <td>37.614948</td>\n",
       "      <td>0</td>\n",
       "    </tr>\n",
       "    <tr>\n",
       "      <th>3</th>\n",
       "      <td>13</td>\n",
       "      <td>s185</td>\n",
       "      <td>Capomulin</td>\n",
       "      <td>Female</td>\n",
       "      <td>3</td>\n",
       "      <td>17</td>\n",
       "      <td>15</td>\n",
       "      <td>38.177232</td>\n",
       "      <td>0</td>\n",
       "    </tr>\n",
       "    <tr>\n",
       "      <th>4</th>\n",
       "      <td>14</td>\n",
       "      <td>s185</td>\n",
       "      <td>Capomulin</td>\n",
       "      <td>Female</td>\n",
       "      <td>3</td>\n",
       "      <td>17</td>\n",
       "      <td>20</td>\n",
       "      <td>36.866876</td>\n",
       "      <td>0</td>\n",
       "    </tr>\n",
       "  </tbody>\n",
       "</table>\n",
       "</div>"
      ],
      "text/plain": [
       "   index Mouse ID Drug Regimen     Sex  Age_months  Weight (g)  Timepoint  \\\n",
       "0     10     s185    Capomulin  Female           3          17          0   \n",
       "1     11     s185    Capomulin  Female           3          17          5   \n",
       "2     12     s185    Capomulin  Female           3          17         10   \n",
       "3     13     s185    Capomulin  Female           3          17         15   \n",
       "4     14     s185    Capomulin  Female           3          17         20   \n",
       "\n",
       "   Tumor Volume (mm3)  Metastatic Sites  \n",
       "0           45.000000                 0  \n",
       "1           43.878496                 0  \n",
       "2           37.614948                 0  \n",
       "3           38.177232                 0  \n",
       "4           36.866876                 0  "
      ]
     },
     "execution_count": 36,
     "metadata": {},
     "output_type": "execute_result"
    }
   ],
   "source": [
    "#Generate a line plot of time point versus tumor volume for a single mouse treated with Capomulin.\n",
    "# Create a new DataFrame that looks into Capomulin\n",
    "capomulin_df = merge_table.loc[merge_table[\"Drug Regimen\"] == \"Capomulin\"]\n",
    "capomulin_df = capomulin_df.reset_index()\n",
    "capomulin_df.head()"
   ]
  },
  {
   "cell_type": "code",
   "execution_count": 37,
   "metadata": {},
   "outputs": [
    {
     "data": {
      "text/html": [
       "<div>\n",
       "<style scoped>\n",
       "    .dataframe tbody tr th:only-of-type {\n",
       "        vertical-align: middle;\n",
       "    }\n",
       "\n",
       "    .dataframe tbody tr th {\n",
       "        vertical-align: top;\n",
       "    }\n",
       "\n",
       "    .dataframe thead th {\n",
       "        text-align: right;\n",
       "    }\n",
       "</style>\n",
       "<table border=\"1\" class=\"dataframe\">\n",
       "  <thead>\n",
       "    <tr style=\"text-align: right;\">\n",
       "      <th></th>\n",
       "      <th>index</th>\n",
       "      <th>Mouse ID</th>\n",
       "      <th>Drug Regimen</th>\n",
       "      <th>Sex</th>\n",
       "      <th>Age_months</th>\n",
       "      <th>Weight (g)</th>\n",
       "      <th>Timepoint</th>\n",
       "      <th>Tumor Volume (mm3)</th>\n",
       "      <th>Metastatic Sites</th>\n",
       "    </tr>\n",
       "  </thead>\n",
       "  <tbody>\n",
       "    <tr>\n",
       "      <th>0</th>\n",
       "      <td>10</td>\n",
       "      <td>s185</td>\n",
       "      <td>Capomulin</td>\n",
       "      <td>Female</td>\n",
       "      <td>3</td>\n",
       "      <td>17</td>\n",
       "      <td>0</td>\n",
       "      <td>45.000000</td>\n",
       "      <td>0</td>\n",
       "    </tr>\n",
       "    <tr>\n",
       "      <th>1</th>\n",
       "      <td>11</td>\n",
       "      <td>s185</td>\n",
       "      <td>Capomulin</td>\n",
       "      <td>Female</td>\n",
       "      <td>3</td>\n",
       "      <td>17</td>\n",
       "      <td>5</td>\n",
       "      <td>43.878496</td>\n",
       "      <td>0</td>\n",
       "    </tr>\n",
       "    <tr>\n",
       "      <th>2</th>\n",
       "      <td>12</td>\n",
       "      <td>s185</td>\n",
       "      <td>Capomulin</td>\n",
       "      <td>Female</td>\n",
       "      <td>3</td>\n",
       "      <td>17</td>\n",
       "      <td>10</td>\n",
       "      <td>37.614948</td>\n",
       "      <td>0</td>\n",
       "    </tr>\n",
       "    <tr>\n",
       "      <th>3</th>\n",
       "      <td>13</td>\n",
       "      <td>s185</td>\n",
       "      <td>Capomulin</td>\n",
       "      <td>Female</td>\n",
       "      <td>3</td>\n",
       "      <td>17</td>\n",
       "      <td>15</td>\n",
       "      <td>38.177232</td>\n",
       "      <td>0</td>\n",
       "    </tr>\n",
       "    <tr>\n",
       "      <th>4</th>\n",
       "      <td>14</td>\n",
       "      <td>s185</td>\n",
       "      <td>Capomulin</td>\n",
       "      <td>Female</td>\n",
       "      <td>3</td>\n",
       "      <td>17</td>\n",
       "      <td>20</td>\n",
       "      <td>36.866876</td>\n",
       "      <td>0</td>\n",
       "    </tr>\n",
       "    <tr>\n",
       "      <th>5</th>\n",
       "      <td>15</td>\n",
       "      <td>s185</td>\n",
       "      <td>Capomulin</td>\n",
       "      <td>Female</td>\n",
       "      <td>3</td>\n",
       "      <td>17</td>\n",
       "      <td>25</td>\n",
       "      <td>33.949940</td>\n",
       "      <td>0</td>\n",
       "    </tr>\n",
       "    <tr>\n",
       "      <th>6</th>\n",
       "      <td>16</td>\n",
       "      <td>s185</td>\n",
       "      <td>Capomulin</td>\n",
       "      <td>Female</td>\n",
       "      <td>3</td>\n",
       "      <td>17</td>\n",
       "      <td>30</td>\n",
       "      <td>32.959671</td>\n",
       "      <td>1</td>\n",
       "    </tr>\n",
       "    <tr>\n",
       "      <th>7</th>\n",
       "      <td>17</td>\n",
       "      <td>s185</td>\n",
       "      <td>Capomulin</td>\n",
       "      <td>Female</td>\n",
       "      <td>3</td>\n",
       "      <td>17</td>\n",
       "      <td>35</td>\n",
       "      <td>28.328531</td>\n",
       "      <td>1</td>\n",
       "    </tr>\n",
       "    <tr>\n",
       "      <th>8</th>\n",
       "      <td>18</td>\n",
       "      <td>s185</td>\n",
       "      <td>Capomulin</td>\n",
       "      <td>Female</td>\n",
       "      <td>3</td>\n",
       "      <td>17</td>\n",
       "      <td>40</td>\n",
       "      <td>25.472143</td>\n",
       "      <td>1</td>\n",
       "    </tr>\n",
       "    <tr>\n",
       "      <th>9</th>\n",
       "      <td>19</td>\n",
       "      <td>s185</td>\n",
       "      <td>Capomulin</td>\n",
       "      <td>Female</td>\n",
       "      <td>3</td>\n",
       "      <td>17</td>\n",
       "      <td>45</td>\n",
       "      <td>23.343598</td>\n",
       "      <td>1</td>\n",
       "    </tr>\n",
       "  </tbody>\n",
       "</table>\n",
       "</div>"
      ],
      "text/plain": [
       "   index Mouse ID Drug Regimen     Sex  Age_months  Weight (g)  Timepoint  \\\n",
       "0     10     s185    Capomulin  Female           3          17          0   \n",
       "1     11     s185    Capomulin  Female           3          17          5   \n",
       "2     12     s185    Capomulin  Female           3          17         10   \n",
       "3     13     s185    Capomulin  Female           3          17         15   \n",
       "4     14     s185    Capomulin  Female           3          17         20   \n",
       "5     15     s185    Capomulin  Female           3          17         25   \n",
       "6     16     s185    Capomulin  Female           3          17         30   \n",
       "7     17     s185    Capomulin  Female           3          17         35   \n",
       "8     18     s185    Capomulin  Female           3          17         40   \n",
       "9     19     s185    Capomulin  Female           3          17         45   \n",
       "\n",
       "   Tumor Volume (mm3)  Metastatic Sites  \n",
       "0           45.000000                 0  \n",
       "1           43.878496                 0  \n",
       "2           37.614948                 0  \n",
       "3           38.177232                 0  \n",
       "4           36.866876                 0  \n",
       "5           33.949940                 0  \n",
       "6           32.959671                 1  \n",
       "7           28.328531                 1  \n",
       "8           25.472143                 1  \n",
       "9           23.343598                 1  "
      ]
     },
     "execution_count": 37,
     "metadata": {},
     "output_type": "execute_result"
    }
   ],
   "source": [
    "# Select data of a single mouse\n",
    "cap_single_df = capomulin_df.loc[capomulin_df[\"Mouse ID\"] == \"s185\"]\n",
    "cap_single_df"
   ]
  },
  {
   "cell_type": "code",
   "execution_count": 38,
   "metadata": {},
   "outputs": [
    {
     "data": {
      "text/plain": [
       "<matplotlib.axes._subplots.AxesSubplot at 0x7fe2272d0c10>"
      ]
     },
     "execution_count": 38,
     "metadata": {},
     "output_type": "execute_result"
    },
    {
     "data": {
      "image/png": "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\n",
      "text/plain": [
       "<Figure size 720x576 with 1 Axes>"
      ]
     },
     "metadata": {
      "needs_background": "light"
     },
     "output_type": "display_data"
    }
   ],
   "source": [
    "# Selecting only 2 columns\n",
    "cap_single_df = cap_single_df.loc[:, [\"Timepoint\", \"Tumor Volume (mm3)\"]]\n",
    "#capomulin_df.index\n",
    "#Reset the index\n",
    "cap_single_df = cap_single_df.reset_index(drop=True)\n",
    "# Generate a line plot of time point versus tumor volume for a mouse treated with Capomulin\n",
    "cap_single_df.set_index('Timepoint').plot(figsize=(10, 8), linewidth=2.5, color='green')"
   ]
  },
  {
   "cell_type": "code",
   "execution_count": null,
   "metadata": {},
   "outputs": [],
   "source": [
    "Scatter Plot"
   ]
  },
  {
   "cell_type": "code",
   "execution_count": null,
   "metadata": {},
   "outputs": [],
   "source": [
    "# Generate a scatter plot of mouse weight versus average tumor volume for the Capomulin treatment regimen."
   ]
  },
  {
   "cell_type": "code",
   "execution_count": null,
   "metadata": {},
   "outputs": [],
   "source": [
    "capomulin_df.head()"
   ]
  },
  {
   "cell_type": "code",
   "execution_count": 39,
   "metadata": {},
   "outputs": [
    {
     "data": {
      "text/html": [
       "<div>\n",
       "<style scoped>\n",
       "    .dataframe tbody tr th:only-of-type {\n",
       "        vertical-align: middle;\n",
       "    }\n",
       "\n",
       "    .dataframe tbody tr th {\n",
       "        vertical-align: top;\n",
       "    }\n",
       "\n",
       "    .dataframe thead th {\n",
       "        text-align: right;\n",
       "    }\n",
       "</style>\n",
       "<table border=\"1\" class=\"dataframe\">\n",
       "  <thead>\n",
       "    <tr style=\"text-align: right;\">\n",
       "      <th></th>\n",
       "      <th>Mouse ID</th>\n",
       "      <th>Weight (g)</th>\n",
       "      <th>Tumor Volume (mm3)</th>\n",
       "    </tr>\n",
       "  </thead>\n",
       "  <tbody>\n",
       "    <tr>\n",
       "      <th>0</th>\n",
       "      <td>s185</td>\n",
       "      <td>17</td>\n",
       "      <td>45.000000</td>\n",
       "    </tr>\n",
       "    <tr>\n",
       "      <th>1</th>\n",
       "      <td>s185</td>\n",
       "      <td>17</td>\n",
       "      <td>43.878496</td>\n",
       "    </tr>\n",
       "    <tr>\n",
       "      <th>2</th>\n",
       "      <td>s185</td>\n",
       "      <td>17</td>\n",
       "      <td>37.614948</td>\n",
       "    </tr>\n",
       "    <tr>\n",
       "      <th>3</th>\n",
       "      <td>s185</td>\n",
       "      <td>17</td>\n",
       "      <td>38.177232</td>\n",
       "    </tr>\n",
       "    <tr>\n",
       "      <th>4</th>\n",
       "      <td>s185</td>\n",
       "      <td>17</td>\n",
       "      <td>36.866876</td>\n",
       "    </tr>\n",
       "  </tbody>\n",
       "</table>\n",
       "</div>"
      ],
      "text/plain": [
       "  Mouse ID  Weight (g)  Tumor Volume (mm3)\n",
       "0     s185          17           45.000000\n",
       "1     s185          17           43.878496\n",
       "2     s185          17           37.614948\n",
       "3     s185          17           38.177232\n",
       "4     s185          17           36.866876"
      ]
     },
     "execution_count": 39,
     "metadata": {},
     "output_type": "execute_result"
    }
   ],
   "source": [
    "# Selecting only 3 columns\n",
    "reduced_df = capomulin_df.loc[:, [\"Mouse ID\", \"Weight (g)\", \"Tumor Volume (mm3)\"]]\n",
    "reduced_df.head()"
   ]
  },
  {
   "cell_type": "code",
   "execution_count": 40,
   "metadata": {},
   "outputs": [
    {
     "data": {
      "text/html": [
       "<div>\n",
       "<style scoped>\n",
       "    .dataframe tbody tr th:only-of-type {\n",
       "        vertical-align: middle;\n",
       "    }\n",
       "\n",
       "    .dataframe tbody tr th {\n",
       "        vertical-align: top;\n",
       "    }\n",
       "\n",
       "    .dataframe thead th {\n",
       "        text-align: right;\n",
       "    }\n",
       "</style>\n",
       "<table border=\"1\" class=\"dataframe\">\n",
       "  <thead>\n",
       "    <tr style=\"text-align: right;\">\n",
       "      <th></th>\n",
       "      <th>Mouse ID</th>\n",
       "      <th>Weight (g)</th>\n",
       "      <th>Tumor Volume (mm3)</th>\n",
       "    </tr>\n",
       "  </thead>\n",
       "  <tbody>\n",
       "    <tr>\n",
       "      <th>0</th>\n",
       "      <td>b128</td>\n",
       "      <td>22</td>\n",
       "      <td>41.963636</td>\n",
       "    </tr>\n",
       "    <tr>\n",
       "      <th>1</th>\n",
       "      <td>b742</td>\n",
       "      <td>21</td>\n",
       "      <td>40.083699</td>\n",
       "    </tr>\n",
       "    <tr>\n",
       "      <th>2</th>\n",
       "      <td>f966</td>\n",
       "      <td>17</td>\n",
       "      <td>36.505973</td>\n",
       "    </tr>\n",
       "    <tr>\n",
       "      <th>3</th>\n",
       "      <td>g288</td>\n",
       "      <td>19</td>\n",
       "      <td>41.990097</td>\n",
       "    </tr>\n",
       "    <tr>\n",
       "      <th>4</th>\n",
       "      <td>g316</td>\n",
       "      <td>22</td>\n",
       "      <td>44.613344</td>\n",
       "    </tr>\n",
       "  </tbody>\n",
       "</table>\n",
       "</div>"
      ],
      "text/plain": [
       "  Mouse ID  Weight (g)  Tumor Volume (mm3)\n",
       "0     b128          22           41.963636\n",
       "1     b742          21           40.083699\n",
       "2     f966          17           36.505973\n",
       "3     g288          19           41.990097\n",
       "4     g316          22           44.613344"
      ]
     },
     "execution_count": 40,
     "metadata": {},
     "output_type": "execute_result"
    }
   ],
   "source": [
    "# Calculate average tumor volume for each mouse in the Capomulin regimen\n",
    "average_cap = pd.DataFrame(reduced_df.groupby([\"Mouse ID\", \"Weight (g)\"])[\"Tumor Volume (mm3)\"].mean()).reset_index()\n",
    "average_cap.head()"
   ]
  },
  {
   "cell_type": "code",
   "execution_count": 41,
   "metadata": {},
   "outputs": [
    {
     "data": {
      "text/html": [
       "<div>\n",
       "<style scoped>\n",
       "    .dataframe tbody tr th:only-of-type {\n",
       "        vertical-align: middle;\n",
       "    }\n",
       "\n",
       "    .dataframe tbody tr th {\n",
       "        vertical-align: top;\n",
       "    }\n",
       "\n",
       "    .dataframe thead th {\n",
       "        text-align: right;\n",
       "    }\n",
       "</style>\n",
       "<table border=\"1\" class=\"dataframe\">\n",
       "  <thead>\n",
       "    <tr style=\"text-align: right;\">\n",
       "      <th></th>\n",
       "      <th>Mouse ID</th>\n",
       "      <th>Weight (g)</th>\n",
       "      <th>Average Volume</th>\n",
       "    </tr>\n",
       "  </thead>\n",
       "  <tbody>\n",
       "    <tr>\n",
       "      <th>0</th>\n",
       "      <td>b128</td>\n",
       "      <td>22</td>\n",
       "      <td>41.963636</td>\n",
       "    </tr>\n",
       "    <tr>\n",
       "      <th>1</th>\n",
       "      <td>b742</td>\n",
       "      <td>21</td>\n",
       "      <td>40.083699</td>\n",
       "    </tr>\n",
       "    <tr>\n",
       "      <th>2</th>\n",
       "      <td>f966</td>\n",
       "      <td>17</td>\n",
       "      <td>36.505973</td>\n",
       "    </tr>\n",
       "    <tr>\n",
       "      <th>3</th>\n",
       "      <td>g288</td>\n",
       "      <td>19</td>\n",
       "      <td>41.990097</td>\n",
       "    </tr>\n",
       "    <tr>\n",
       "      <th>4</th>\n",
       "      <td>g316</td>\n",
       "      <td>22</td>\n",
       "      <td>44.613344</td>\n",
       "    </tr>\n",
       "  </tbody>\n",
       "</table>\n",
       "</div>"
      ],
      "text/plain": [
       "  Mouse ID  Weight (g)  Average Volume\n",
       "0     b128          22       41.963636\n",
       "1     b742          21       40.083699\n",
       "2     f966          17       36.505973\n",
       "3     g288          19       41.990097\n",
       "4     g316          22       44.613344"
      ]
     },
     "execution_count": 41,
     "metadata": {},
     "output_type": "execute_result"
    }
   ],
   "source": [
    "# Rename Tumor Volume column\n",
    "average_cap = average_cap.rename(columns={\"Tumor Volume (mm3)\": \"Average Volume\"})\n",
    "average_cap.head()"
   ]
  },
  {
   "cell_type": "code",
   "execution_count": 42,
   "metadata": {},
   "outputs": [],
   "source": [
    "# Set the 'Mouse ID' as our index\n",
    "average_cap = average_cap.set_index('Mouse ID')"
   ]
  },
  {
   "cell_type": "code",
   "execution_count": 43,
   "metadata": {},
   "outputs": [
    {
     "data": {
      "image/png": "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\n",
      "text/plain": [
       "<Figure size 288x288 with 1 Axes>"
      ]
     },
     "metadata": {
      "needs_background": "light"
     },
     "output_type": "display_data"
    }
   ],
   "source": [
    "#Generate a scatter plot of mouse weight versus average tumor volume for the Capomulin regimen\n",
    "average_cap.plot(kind=\"scatter\", x=\"Weight (g)\", y=\"Average Volume\", grid=True, figsize=(4,4),\n",
    "              title=\"Weight Vs. Average Tumor Volume\")\n",
    "plt.show()"
   ]
  },
  {
   "cell_type": "markdown",
   "metadata": {},
   "source": [
    "## Correlation and Regression"
   ]
  },
  {
   "cell_type": "code",
   "execution_count": null,
   "metadata": {},
   "outputs": [],
   "source": [
    "# Calculate the correlation coefficient and linear regression model for mouse weight and average tumor volume for the Capomulin regimen\n",
    "import matplotlib.pyplot as plt\n"
   ]
  },
  {
   "cell_type": "code",
   "execution_count": 44,
   "metadata": {},
   "outputs": [
    {
     "name": "stdout",
     "output_type": "stream",
     "text": [
      "The correlation between both factors is 0.84\n"
     ]
    }
   ],
   "source": [
    "# Calculate the correlation coefficient between mouse weight and average tumor volume for the Capomulin regimen\n",
    "\n",
    "mouse_weight = average_cap.iloc[:,0]\n",
    "avg_tumor_volume = average_cap.iloc[:,1]\n",
    "correlation = st.pearsonr(mouse_weight,avg_tumor_volume)\n",
    "print(f\"The correlation between both factors is {round(correlation[0],2)}\")"
   ]
  },
  {
   "cell_type": "code",
   "execution_count": 45,
   "metadata": {},
   "outputs": [
    {
     "data": {
      "image/png": "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\n",
      "text/plain": [
       "<Figure size 432x288 with 1 Axes>"
      ]
     },
     "metadata": {
      "needs_background": "light"
     },
     "output_type": "display_data"
    }
   ],
   "source": [
    "# Add the linear regression equation and line to plot\n",
    "x_values = average_cap['Weight (g)']\n",
    "y_values = average_cap['Average Volume']\n",
    "(slope, intercept, rvalue, pvalue, stderr) = linregress(x_values, y_values)\n",
    "regress_values = x_values * slope + intercept\n",
    "line_eq = \"y = \" + str(round(slope,2)) + \"x + \" + str(round(intercept,2))\n",
    "plt.scatter(x_values,y_values)\n",
    "plt.plot(x_values,regress_values,\"r-\")\n",
    "plt.annotate(line_eq,(6,10),fontsize=15,color=\"red\")\n",
    "plt.xlabel('Mouse Weight')\n",
    "plt.ylabel('Average Tumor Volume')\n",
    "plt.show()\n"
   ]
  },
  {
   "cell_type": "code",
   "execution_count": null,
   "metadata": {},
   "outputs": [],
   "source": []
  }
 ],
 "metadata": {
  "anaconda-cloud": {},
  "kernelspec": {
   "display_name": "Python 3",
   "language": "python",
   "name": "python3"
  },
  "language_info": {
   "codemirror_mode": {
    "name": "ipython",
    "version": 3
   },
   "file_extension": ".py",
   "mimetype": "text/x-python",
   "name": "python",
   "nbconvert_exporter": "python",
   "pygments_lexer": "ipython3",
   "version": "3.8.3"
  }
 },
 "nbformat": 4,
 "nbformat_minor": 4
}
